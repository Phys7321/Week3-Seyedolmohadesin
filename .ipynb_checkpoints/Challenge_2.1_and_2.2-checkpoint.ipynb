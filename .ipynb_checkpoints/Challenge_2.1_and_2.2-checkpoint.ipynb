{
 "cells": [
  {
   "cell_type": "markdown",
   "metadata": {},
   "source": [
    "### Challenge Problem 2.1\n",
    "\n",
    "Analytical Solution:\n",
    "\n",
    "$T=T_s+(T_0-T_s)e^{-rt}$\n",
    "\n",
    "By using the following initial condition :\n",
    "\n",
    "$T_0=10$\n",
    "\n",
    "$T_s=83$\n",
    "\n",
    "$r=0.1$\n",
    "\n",
    "We can find that:\n",
    "\n",
    "$T(t=10)=56.1448008$\n"
   ]
  },
  {
   "cell_type": "code",
   "execution_count": null,
   "metadata": {},
   "outputs": [],
   "source": [
    "%matplotlib inline\n",
    "import numpy as np\n",
    "from matplotlib import pyplot \n",
    "\n",
    "T0 = 10.   # initial temperature\n",
    "Ts = 83.   # temp. of the environment\n",
    "r = 0.1    # cooling rate\n",
    "dt = 0.05  # time step\n",
    "tmax = 60. # maximum time\n",
    "\n",
    "euler = lambda y, f, dx: y + f*dx \n",
    "\n",
    "timearray=np.zeros(4)\n",
    "Tarray=np.zeros(4)\n",
    "\n",
    "dt = 1.\n",
    "my_color = ['red', 'green', 'blue', 'black']\n",
    "for j in range(0,4):\n",
    "    nsteps = int(tmax/dt)    #the arrays will have different size for different time steps\n",
    "    my_time = np.linspace(0,tmax,nsteps) \n",
    "    my_temp = np.zeros(nsteps)\n",
    "    my_temp[0]=T0\n",
    "    T = T0\n",
    "    for i in range(1,nsteps):\n",
    "        T = euler(T, -r*(T-Ts), dt)\n",
    "        my_temp[i] = T\n",
    "    print('dt=%.2f , T(t=10)=%.3f' % (dt,my_temp[10*(2**j)]))  \n",
    "    Tarray[j]=my_temp[10*(2**j)]\n",
    "    timearray[j]=dt\n",
    "    pyplot.plot(my_time, my_temp, color=my_color[j], ls='-', lw=3)\n",
    "    dt = dt/2.\n",
    "\n",
    "pyplot.xlabel('time');\n",
    "pyplot.ylabel('temperature');\n",
    "pyplot.xlim(9.75,10)\n",
    "pyplot.ylim(54,58);"
   ]
  },
  {
   "cell_type": "code",
   "execution_count": null,
   "metadata": {
    "collapsed": true
   },
   "outputs": [],
   "source": [
    "pyplot.plot(timearray,Tarray)\n",
    "pyplot.xlabel('time step');\n",
    "pyplot.ylabel('temperature at t=10');"
   ]
  },
  {
   "cell_type": "markdown",
   "metadata": {},
   "source": [
    "#### As we can see here, smaller dt gives T at t=10 closer to the actual value "
   ]
  },
  {
   "cell_type": "markdown",
   "metadata": {},
   "source": [
    "### Challenge Problem 2.2"
   ]
  },
  {
   "cell_type": "code",
   "execution_count": 2,
   "metadata": {},
   "outputs": [
    {
     "name": "stdout",
     "output_type": "stream",
     "text": [
      "dt=1.00 , T(t=10)=56.1447764679\n",
      "dt=0.50 , T(t=10)=56.1447993362\n",
      "dt=0.25 , T(t=10)=56.1448007052\n",
      "dt=0.12 , T(t=10)=56.1448007890\n"
     ]
    },
    {
     "data": {
      "image/png": "[encoded data removed]",
      "text/plain": [
       "<matplotlib.figure.Figure at 0x109be6860>"
      ]
     },
     "metadata": {},
     "output_type": "display_data"
    }
   ],
   "source": [
    "\n",
    "%matplotlib inline\n",
    "import numpy as np\n",
    "from matplotlib import pyplot \n",
    "\n",
    "\n",
    "import diffeq\n",
    "from diffeq import rk4\n",
    "\n",
    "f=lambda T,t : -r*(T-Ts)\n",
    "\n",
    "T0 = 10.   # initial temperature\n",
    "Ts = 83.   # temp. of the environment\n",
    "r = 0.1    # cooling rate\n",
    "tmax = 60. # maximum time\n",
    "\n",
    "timearray=np.zeros(4)\n",
    "Tarray=np.zeros(4)\n",
    "dt = 1.\n",
    "\n",
    "my_color = ['red', 'green', 'blue', 'black']\n",
    "\n",
    "for j in range(0,4):\n",
    "    \n",
    "    nsteps = int(tmax/dt)    #the arrays will have different size for different time steps\n",
    "    T = T0\n",
    "    \n",
    "    my_temp , my_time = rk4(f,0,tmax, nsteps)\n",
    "   \n",
    "    print('dt=%.3f , T(t=10)=%.10f' % (dt,my_temp[10*(2**j)]))  \n",
    "    Tarray[j]=my_temp[10*(2**j)]\n",
    "    timearray[j]=dt\n",
    "    pyplot.plot(my_time, my_temp, color=my_color[j], ls='-', lw=3)\n",
    "    dt = dt/2.\n",
    "\n",
    "\n",
    "pyplot.xlabel('time');\n",
    "pyplot.ylabel('temperature');\n",
    "pyplot.xlim(9,10)\n",
    "pyplot.ylim(55,57);\n",
    "\n",
    "\n"
   ]
  },
  {
   "cell_type": "code",
   "execution_count": 3,
   "metadata": {},
   "outputs": [
    {
     "data": {
      "image/png": "[encoded data removed]",
      "text/plain": [
       "<matplotlib.figure.Figure at 0x109be49e8>"
      ]
     },
     "metadata": {},
     "output_type": "display_data"
    }
   ],
   "source": [
    "\n",
    "pyplot.plot(timearray,Tarray)\n",
    "pyplot.xlabel('time step');\n",
    "pyplot.ylabel('temperature at t=10');"
   ]
  },
  {
   "cell_type": "markdown",
   "metadata": {},
   "source": [
    "#### Temperature at t=10 is almost equal to the actual value changing dt doesn't change the result dramatically but still  dt=0.125 gives a better result."
   ]
  }
 ],
 "metadata": {
  "kernelspec": {
   "display_name": "Python [default]",
   "language": "python",
   "name": "python3"
  },
  "language_info": {
   "codemirror_mode": {
    "name": "ipython",
    "version": 3
   },
   "file_extension": ".py",
   "mimetype": "text/x-python",
   "name": "python",
   "nbconvert_exporter": "python",
   "pygments_lexer": "ipython3",
   "version": "3.5.3"
  }
 },
 "nbformat": 4,
 "nbformat_minor": 2
}
